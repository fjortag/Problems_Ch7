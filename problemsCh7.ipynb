{
 "cells": [
  {
   "cell_type": "markdown",
   "metadata": {},
   "source": [
    "## 7.1"
   ]
  },
  {
   "cell_type": "code",
   "execution_count": 420,
   "metadata": {},
   "outputs": [],
   "source": [
    "import numpy as np\n",
    "A = np.array([13,19,9,5,12,8,7,4,11,2,6,21])"
   ]
  },
  {
   "cell_type": "code",
   "execution_count": 421,
   "metadata": {},
   "outputs": [],
   "source": [
    "def HOARE_PARTITION (A,p,r,noprint=True):\n",
    "    x = A[p]\n",
    "    i=p\n",
    "    j=r\n",
    "    \n",
    "    if noprint == False:\n",
    "        print ('Original______________________{}'.format(A))\n",
    "    \n",
    "    while i<j:\n",
    "        \n",
    "        \n",
    "        \n",
    "        while A[j]>=x and j>p:\n",
    "            \n",
    "            j = j - 1\n",
    "\n",
    "          \n",
    "        while A[i]<=x and i<r:\n",
    "            #print(A[i])\n",
    "            i=i+1\n",
    "\n",
    "\n",
    "        if i<j:\n",
    "            A[i],A[j] = A [j],A[i]\n",
    "            \n",
    "            if noprint == False:\n",
    "                print ('Exchanging i= {} and j ={}     {}'.format(i,j,A))\n",
    "            \n",
    "        \n",
    "    \n",
    "    A[p],A[j] = A [j],A[p]\n",
    "    if noprint == False:\n",
    "        print ('Final_________________________{}'.format(A))\n",
    "    return j"
   ]
  },
  {
   "cell_type": "markdown",
   "metadata": {},
   "source": [
    "## 7.1.A"
   ]
  },
  {
   "cell_type": "code",
   "execution_count": 422,
   "metadata": {},
   "outputs": [
    {
     "name": "stdout",
     "output_type": "stream",
     "text": [
      "Original______________________[13 19  9  5 12  8  7  4 11  2  6 21]\n",
      "Exchanging i= 1 and j =10     [13  6  9  5 12  8  7  4 11  2 19 21]\n",
      "Final_________________________[ 2  6  9  5 12  8  7  4 11 13 19 21]\n"
     ]
    },
    {
     "data": {
      "text/plain": [
       "9"
      ]
     },
     "execution_count": 422,
     "metadata": {},
     "output_type": "execute_result"
    }
   ],
   "source": [
    "HOARE_PARTITION(A,0,len(A)-1,False)"
   ]
  },
  {
   "cell_type": "markdown",
   "metadata": {},
   "source": [
    "## 7.1.E"
   ]
  },
  {
   "cell_type": "code",
   "execution_count": 423,
   "metadata": {},
   "outputs": [],
   "source": [
    "def quicksort(A,p,r):\n",
    "    if p<r:\n",
    "        q=HOARE_PARTITION(A,p,r)\n",
    "        quicksort(A,p,q)\n",
    "        quicksort(A,q+1,r)\n",
    "    "
   ]
  },
  {
   "cell_type": "code",
   "execution_count": 424,
   "metadata": {},
   "outputs": [],
   "source": [
    "quicksort(A,0,len(A)-1)"
   ]
  },
  {
   "cell_type": "code",
   "execution_count": 425,
   "metadata": {},
   "outputs": [
    {
     "data": {
      "text/plain": [
       "array([ 2,  4,  5,  6,  7,  8,  9, 11, 12, 13, 19, 21])"
      ]
     },
     "execution_count": 425,
     "metadata": {},
     "output_type": "execute_result"
    }
   ],
   "source": [
    "A"
   ]
  },
  {
   "cell_type": "markdown",
   "metadata": {},
   "source": [
    "## 7.2"
   ]
  },
  {
   "cell_type": "code",
   "execution_count": 426,
   "metadata": {},
   "outputs": [],
   "source": [
    "def new_partition(A,p,r):\n",
    "    \n",
    "    x = A[r]\n",
    "    i = p-1\n",
    "    t = 0\n",
    "    \n",
    "    for j in range(p,r):\n",
    "\n",
    "        \n",
    "        if A[j]==x:\n",
    "            i=i+1\n",
    "            t=t+1 #count repeats\n",
    "            A[i],A[j] = A [j],A[i]\n",
    "\n",
    "\n",
    "        \n",
    "        if A[j]<x:\n",
    "            i=i+1\n",
    "            A[i],A[j] = A [j],A[i]\n",
    "            k=i\n",
    "            for _ in range(t):\n",
    "                A[k],A[k-1] = A[k-1],A[k]\n",
    "                k=k-1     \n",
    "    \n",
    "\n",
    "    A[i+1],A[r] = A[r],A[i+1]    \n",
    "    return (i-t+1,i+1)\n",
    "    \n",
    "    "
   ]
  },
  {
   "cell_type": "code",
   "execution_count": 427,
   "metadata": {},
   "outputs": [],
   "source": [
    "A = np.array([ 6,  9,  5,  8,  7,  6,  6,  2,  6, 11, 12, 6])"
   ]
  },
  {
   "cell_type": "code",
   "execution_count": 428,
   "metadata": {},
   "outputs": [
    {
     "data": {
      "text/plain": [
       "(2, 6)"
      ]
     },
     "execution_count": 428,
     "metadata": {},
     "output_type": "execute_result"
    }
   ],
   "source": [
    "new_partition(A,0,len(A)-1)"
   ]
  },
  {
   "cell_type": "code",
   "execution_count": 429,
   "metadata": {},
   "outputs": [
    {
     "name": "stdout",
     "output_type": "stream",
     "text": [
      "[ 5  2  6  6  6  6  6  7  9 11 12  8]\n"
     ]
    }
   ],
   "source": [
    "print (A)"
   ]
  },
  {
   "cell_type": "code",
   "execution_count": 430,
   "metadata": {},
   "outputs": [],
   "source": [
    "def new_quicksort(A,p,r):\n",
    "    if p<r:\n",
    "        t,q = new_partition(A,p,r)\n",
    "        new_quicksort(A,p,t-1)\n",
    "        new_quicksort(A,q+1,r)"
   ]
  },
  {
   "cell_type": "code",
   "execution_count": 431,
   "metadata": {},
   "outputs": [],
   "source": [
    "A = np.array([ 6,  9,  5,  8,  7,  6,  6,  2,  6, 11, 12, 6])"
   ]
  },
  {
   "cell_type": "code",
   "execution_count": 432,
   "metadata": {},
   "outputs": [],
   "source": [
    "new_quicksort(A,0,len(A)-1)"
   ]
  },
  {
   "cell_type": "code",
   "execution_count": 433,
   "metadata": {},
   "outputs": [
    {
     "name": "stdout",
     "output_type": "stream",
     "text": [
      "[ 2  5  6  6  6  6  6  7  8  9 11 12]\n"
     ]
    }
   ],
   "source": [
    "print (A)"
   ]
  },
  {
   "cell_type": "code",
   "execution_count": 434,
   "metadata": {},
   "outputs": [],
   "source": [
    "def new_randomized_partition(A,p,r):\n",
    "    i=np.random.randint(p,r)\n",
    "    A[r],A[i] = A[i],A[r]\n",
    "    return new_partition(A,p,r)\n",
    "    "
   ]
  },
  {
   "cell_type": "code",
   "execution_count": 435,
   "metadata": {},
   "outputs": [
    {
     "name": "stdout",
     "output_type": "stream",
     "text": [
      "[ 5  2  6  6  6  6  6  7  9 11 12  8]\n"
     ]
    }
   ],
   "source": [
    "A = np.array([ 6,  9,  5,  8,  7,  6,  6,  2,  6, 11, 12, 6])\n",
    "new_randomized_partition(A,0,len(A)-1)\n",
    "print (A)"
   ]
  },
  {
   "cell_type": "code",
   "execution_count": 436,
   "metadata": {},
   "outputs": [],
   "source": [
    "def new_randomized_quicksort(A,p,r):\n",
    "    if p<r:\n",
    "        t,q = new_randomized_partition(A,p,r)\n",
    "        new_randomized_quicksort(A,p,t-1)\n",
    "        new_randomized_quicksort(A,q+1,r)\n",
    "        "
   ]
  },
  {
   "cell_type": "code",
   "execution_count": 437,
   "metadata": {},
   "outputs": [
    {
     "name": "stdout",
     "output_type": "stream",
     "text": [
      "[ 2  5  6  6  6  6  6  7  8  9 11 12]\n"
     ]
    }
   ],
   "source": [
    "A = np.array([ 6,  9,  5,  8,  7,  6,  6,  2,  6, 11, 12, 6])\n",
    "new_randomized_quicksort(A,0,len(A)-1)\n",
    "print (A)"
   ]
  },
  {
   "cell_type": "code",
   "execution_count": null,
   "metadata": {},
   "outputs": [],
   "source": []
  }
 ],
 "metadata": {
  "kernelspec": {
   "display_name": "Python 3",
   "language": "python",
   "name": "python3"
  },
  "language_info": {
   "codemirror_mode": {
    "name": "ipython",
    "version": 3
   },
   "file_extension": ".py",
   "mimetype": "text/x-python",
   "name": "python",
   "nbconvert_exporter": "python",
   "pygments_lexer": "ipython3",
   "version": "3.7.4"
  }
 },
 "nbformat": 4,
 "nbformat_minor": 2
}
